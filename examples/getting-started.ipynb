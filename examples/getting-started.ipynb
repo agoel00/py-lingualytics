{
  "nbformat": 4,
  "nbformat_minor": 0,
  "metadata": {
    "colab": {
      "name": "Lingualytics-Demo.ipynb",
      "provenance": []
    },
    "kernelspec": {
      "name": "python3",
      "display_name": "Python 3"
    },
    "accelerator": "GPU"
  },
  "cells": [
    {
      "cell_type": "markdown",
      "metadata": {
        "id": "eU04Fb6Jz9N0",
        "colab_type": "text"
      },
      "source": [
        "# Lingualytics"
      ]
    },
    {
      "cell_type": "markdown",
      "metadata": {
        "id": "olSJiSpe0By1",
        "colab_type": "text"
      },
      "source": [
        "## Installation\n",
        "\n",
        "Use this simple one-line command to install Lingualytics"
      ]
    },
    {
      "cell_type": "code",
      "metadata": {
        "id": "eOr4q5sgzLJL",
        "colab_type": "code",
        "colab": {}
      },
      "source": [
        "!pip install lingualytics"
      ],
      "execution_count": null,
      "outputs": []
    },
    {
      "cell_type": "markdown",
      "metadata": {
        "id": "RRWejgPB0FLT",
        "colab_type": "text"
      },
      "source": [
        "## Preprocessing\n",
        "\n",
        "In this example, we'll take a code-switched dataset and clean it by removing the digits, punctuation and stopwords."
      ]
    },
    {
      "cell_type": "code",
      "metadata": {
        "id": "6w0-ZJqr0Ih1",
        "colab_type": "code",
        "colab": {}
      },
      "source": [
        "from lingualytics.preprocessing import remove_lessthan, remove_punctuation, remove_stopwords\n",
        "from lingualytics.stopwords import hi_stopwords,en_stopwords\n",
        "from texthero.preprocessing import remove_digits\n",
        "import pandas as pd\n",
        "df = pd.read_csv(\n",
        "   \"https://github.com/lingualytics/py-lingualytics/raw/master/datasets/SAIL_2017/Processed_Data/Devanagari/validation.txt\", header=None, sep='\\t', names=['text','label']\n",
        ")\n",
        "pd.set_option('display.max_colwidth', None)\n",
        "df['clean_text'] = df['text'].pipe(remove_digits) \\\n",
        "                                    .pipe(remove_punctuation) \\\n",
        "                                    .pipe(remove_stopwords,stopwords=en_stopwords.union(hi_stopwords))\n",
        "df"
      ],
      "execution_count": null,
      "outputs": []
    },
    {
      "cell_type": "markdown",
      "metadata": {
        "id": "c0NI8lj00iwm",
        "colab_type": "text"
      },
      "source": [
        "## Classification\n",
        "\n",
        "This example would train a classifier on any given dataset. It uses **Pytorch** internally to perform the training."
      ]
    },
    {
      "cell_type": "code",
      "metadata": {
        "id": "mkzB3FMxzMhR",
        "colab_type": "code",
        "colab": {}
      },
      "source": [
        "from lingualytics.learner import Learner\n",
        "\n",
        "learner = Learner(model_type = 'bert',\n",
        "                model_name = 'bert-base-multilingual-cased',\n",
        "                dataset = 'SAIL_2017',\n",
        "                train_bs = 16,\n",
        "                num_train_epochs = 1)\n",
        "\n",
        "learner.fit()"
      ],
      "execution_count": null,
      "outputs": []
    },
    {
      "cell_type": "markdown",
      "metadata": {
        "id": "Oczc9YfA0qTJ",
        "colab_type": "text"
      },
      "source": [
        "## Find topmost n-grams\n",
        "\n"
      ]
    },
    {
      "cell_type": "code",
      "metadata": {
        "id": "f7zowbqE0shh",
        "colab_type": "code",
        "colab": {}
      },
      "source": [
        "from lingualytics.representation import get_ngrams\n",
        "import pandas as pd\n",
        "import plotly.express as px\n",
        "\n",
        "df = pd.read_csv(\n",
        "   \"https://github.com/jbesomi/texthero/raw/master/dataset/bbcsport.csv\"\n",
        ")\n",
        "\n",
        "# clean text\n",
        "df['text'] = df['text'].pipe(remove_digits) \\\n",
        "                              .pipe(remove_punctuation) \\\n",
        "                              .pipe(remove_stopwords,stopwords=en_stopwords.union(hi_stopwords))\n",
        "# get n-grams\n",
        "n = 2\n",
        "ngrams = get_ngrams(df['text'],n=n,merge=True)\n",
        "ngrams = ngrams[:10]\n",
        "\n",
        "# plot\n",
        "tw = pd.DataFrame(ngrams,columns=[f'{n}-gram','count'])\n",
        "fig = px.bar(tw,x=f'{n}-gram',y='count')\n",
        "fig.show()"
      ],
      "execution_count": null,
      "outputs": []
    }
  ]
}